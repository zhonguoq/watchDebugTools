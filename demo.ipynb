{
 "cells": [
  {
   "cell_type": "code",
   "execution_count": null,
   "id": "7162fd78-6fe1-4809-801c-0fb1c86e26e9",
   "metadata": {},
   "outputs": [],
   "source": [
    "import watchSportParsers as wsp\n",
    "from watchSportParsers import ChartNormalParser"
   ]
  },
  {
   "cell_type": "code",
   "execution_count": null,
   "id": "b7a81818-3de5-4fbe-ad4d-354f11d4f850",
   "metadata": {},
   "outputs": [],
   "source": [
    "# 支持过滤的字段包含 fields = ['version', 'tag', 'heart_rate', 'rtc_time', 'average_speed', 'step_freq', 'altitude']. \n",
    "# 筛选出字段为'tag' 并且 'tag' 值为38的所有点\n",
    "\n",
    "wsp.parse_files('tag', 39)"
   ]
  },
  {
   "cell_type": "code",
   "execution_count": null,
   "id": "6e7dc549",
   "metadata": {},
   "outputs": [],
   "source": [
    "from watchSportParsers import ReportParser, select_file"
   ]
  },
  {
   "cell_type": "code",
   "execution_count": null,
   "id": "0ea14c34",
   "metadata": {
    "scrolled": true
   },
   "outputs": [],
   "source": [
    "file_path = select_file()\n",
    "rp = ReportParser()\n",
    "rp.parse(file_path)"
   ]
  },
  {
   "cell_type": "code",
   "execution_count": null,
   "id": "c60735ed",
   "metadata": {},
   "outputs": [],
   "source": []
  }
 ],
 "metadata": {
  "kernelspec": {
   "display_name": "Python 3 (ipykernel)",
   "language": "python",
   "name": "python3"
  },
  "language_info": {
   "codemirror_mode": {
    "name": "ipython",
    "version": 3
   },
   "file_extension": ".py",
   "mimetype": "text/x-python",
   "name": "python",
   "nbconvert_exporter": "python",
   "pygments_lexer": "ipython3",
   "version": "3.11.0"
  }
 },
 "nbformat": 4,
 "nbformat_minor": 5
}
